{
 "cells": [
  {
   "cell_type": "code",
   "execution_count": 6,
   "metadata": {},
   "outputs": [
    {
     "name": "stdout",
     "output_type": "stream",
     "text": [
      "Predictions: ['Positive', 'Negative', 'Positive', 'Negative', 'Negative', 'Negative']\n"
     ]
    }
   ],
   "source": [
    "import requests\n",
    "# Define the FastAPI server URL\n",
    "base_url = \"http://13.49.127.197\"\n",
    "\n",
    "# Define the payload with the texts you want to predict\n",
    "payload = {\n",
    "    \"texts\": [\"service ကောင်းတယ်\",\n",
    "              \"ဆက်ဆံရေးကောင်းတယ်\",\n",
    "              \"အသုံးပြုရတာအဆင်ပြေတယ်\",\n",
    "              \"service မကောင်းဘူး\",\n",
    "              \"ဆက်ဆံရေးမကောင်းဘူး\",\n",
    "              \"အသုံးပြုရတာအဆင်မပြေဘူး\"]\n",
    "}\n",
    "\n",
    "# Make a POST request to the /predict/ endpoint\n",
    "response = requests.post(f\"{base_url}/predict/\", json=payload)\n",
    "\n",
    "# Check if the request was successful\n",
    "if response.status_code == 200:\n",
    "    # Get the predictions from the response\n",
    "    predictions = response.json()[\"predictions\"]\n",
    "    print(\"Predictions:\", predictions)\n",
    "else:\n",
    "    print(\"Error:\", response.status_code, response.text)\n"
   ]
  },
  {
   "cell_type": "code",
   "execution_count": null,
   "metadata": {},
   "outputs": [],
   "source": []
  }
 ],
 "metadata": {
  "kernelspec": {
   "display_name": "myominhtet",
   "language": "python",
   "name": "python3"
  },
  "language_info": {
   "codemirror_mode": {
    "name": "ipython",
    "version": 3
   },
   "file_extension": ".py",
   "mimetype": "text/x-python",
   "name": "python",
   "nbconvert_exporter": "python",
   "pygments_lexer": "ipython3",
   "version": "3.11.7"
  }
 },
 "nbformat": 4,
 "nbformat_minor": 2
}
