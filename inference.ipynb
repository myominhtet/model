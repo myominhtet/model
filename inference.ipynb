{
 "cells": [
  {
   "cell_type": "code",
   "execution_count": 6,
   "metadata": {},
   "outputs": [
    {
     "name": "stdout",
     "output_type": "stream",
     "text": [
      "Predictions: ['Positive', 'Positive', 'Neutral', 'Negative', 'Positive', 'Neutral']\n"
     ]
    }
   ],
   "source": [
    "import requests\n",
    "# Define the FastAPI server URL\n",
    "base_url = \"http://127.0.0.1:8000\"\n",
    "\n",
    "# Define the payload with the texts you want to predict\n",
    "payload = {\n",
    "    \"texts\": [\"M-150Aye Min Phyo မင်္ဂလာပါ! အခုလို မဲလဲရာမှာ အဆင်မပြေဖြစ်ရတဲ့အတွက် အနူးအညွတ် တောင်းပန်ပါတယ်။ M-150 ဖက်မှ မဲလဲတာနှင့်ပတ်သတ်ပြီး အဆင်ပြေစေရန် အမြန်ဆုံးဆောင်ရွက်လျက်ရှိပြီး အသေးစိတ်ထပ်မံသိရှိလိုပါက ၀၁-၂၃၉၉၂၁၅ သို့ ဖုန်းခေါဆိုခကုန်ကျမှုမရှိဘဲ ဆက်သွယ်စုံစမ်းနိုင်ပါတယ်\",\n",
    "              \"အဆင်ပြေ\",\n",
    "              \"SM slideလေး ထုတ်စေချင်တယ်ဗျာ slipperတောင် တော်တော်စီးလို့ကောင်းနေတာ\",\n",
    "              \"ငါဂယ်စီးဖူးတယ်ကိုင်းမြေထဲရေသွင်းတာဆေးဖြန်းတာလုပ်ရင်းစီးတာတစ်လခွလောက်ပဲစီးရတယ်ခဲံကပဲ့သွားတယ်\",\n",
    "              \"အကြိုက်ဆုံးတစ်ဆိပ်ထဲမှာသူလည်းပါတယ်စီးရတာပေါ့ကြီးမိုက်တယ်၊အကြမ်းလည်းခံတယ်\",\n",
    "              \"2နှစ်လောက်စီးရတယ် ပေးရတဲ့ဈေးနဲ့က တန်ပါတယ်\"]\n",
    "}\n",
    "\n",
    "# Make a POST request to the /predict/ endpoint\n",
    "response = requests.post(f\"{base_url}/predict/\", json=payload)\n",
    "\n",
    "# Check if the request was successful\n",
    "if response.status_code == 200:\n",
    "    # Get the predictions from the response\n",
    "    predictions = response.json()[\"predictions\"]\n",
    "    print(\"Predictions:\", predictions)\n",
    "else:\n",
    "    print(\"Error:\", response.status_code, response.text)\n"
   ]
  },
  {
   "cell_type": "code",
   "execution_count": null,
   "metadata": {},
   "outputs": [],
   "source": []
  }
 ],
 "metadata": {
  "kernelspec": {
   "display_name": "myominhtet",
   "language": "python",
   "name": "python3"
  },
  "language_info": {
   "codemirror_mode": {
    "name": "ipython",
    "version": 3
   },
   "file_extension": ".py",
   "mimetype": "text/x-python",
   "name": "python",
   "nbconvert_exporter": "python",
   "pygments_lexer": "ipython3",
   "version": "3.11.7"
  }
 },
 "nbformat": 4,
 "nbformat_minor": 2
}
